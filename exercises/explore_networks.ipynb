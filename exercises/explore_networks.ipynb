{
 "cells": [
  {
   "cell_type": "markdown",
   "metadata": {},
   "source": [
    "# Explore the network files\n",
    "\n",
    "The goal is to learn networkx functions by exploring the stored network files. Each section of the notebook has a task to complete."
   ]
  },
  {
   "cell_type": "markdown",
   "metadata": {},
   "source": [
    "## List the network files\n",
    "The Python glob module can be used to find all network input files that match a filename pattern that includes wildcards.  Use glob to obtain all of the filenames in `../data` without hard-coding `network1.txt`, `network2.txt`, etc.  Print the list of filenames."
   ]
  },
  {
   "cell_type": "code",
   "execution_count": 1,
   "metadata": {},
   "outputs": [
    {
     "name": "stdout",
     "output_type": "stream",
     "text": [
      "networkx version 2.2\n",
      "\n"
     ]
    }
   ],
   "source": [
    "import networkx as nx\n",
    "import os, glob\n",
    "\n",
    "# The networkx API changes in different versions\n",
    "print(f'networkx version {nx.__version__}\\n')"
   ]
  },
  {
   "cell_type": "markdown",
   "metadata": {},
   "source": [
    "## Load the network files\n",
    "Define a function that will use the networkx module to create an undirected Graph (https://networkx.github.io/documentation/stable/reference/classes/graph.html) object for each network file.  Given a filename, the function will return the constructed Graph.\n",
    "\n",
    "Next, iterate through the list of files and create a list of Graphs.  It will be helpful later to sort the list of filenames first."
   ]
  },
  {
   "cell_type": "code",
   "execution_count": null,
   "metadata": {},
   "outputs": [],
   "source": []
  },
  {
   "cell_type": "markdown",
   "metadata": {},
   "source": [
    "## Draw each of the graphs\n",
    "Iterate through the graphs and use the networkx `draw` function (https://networkx.github.io/documentation/stable/reference/generated/networkx.drawing.nx_pylab.draw.html) to visualize them.\n",
    "\n",
    "`plt.show()` may be helpful to draw each graph before it is overwritten by the next graph."
   ]
  },
  {
   "cell_type": "code",
   "execution_count": null,
   "metadata": {
    "scrolled": true
   },
   "outputs": [],
   "source": [
    "%pylab inline\n"
   ]
  },
  {
   "cell_type": "markdown",
   "metadata": {},
   "source": [
    "## Explore simple properites of network 3\n",
    "Use existing networkx functions (https://networkx.github.io/documentation/stable/reference/functions.html and https://networkx.github.io/documentation/stable/reference/classes/graph.html#methods) to explore the topology of network 3.  Show:\n",
    "- The number of nodes and edges\n",
    "- The neighbors of node **A**\n",
    "- The neighbors of node **F**\n",
    "- The degrees of all nodes\n",
    "- The common neighbors of **A** and __G__"
   ]
  },
  {
   "cell_type": "code",
   "execution_count": null,
   "metadata": {},
   "outputs": [],
   "source": []
  },
  {
   "cell_type": "markdown",
   "metadata": {},
   "source": [
    "## Explore more complex properties of network 3\n",
    "Use existing networkx functions (https://networkx.github.io/documentation/stable/reference/algorithms/centrality.html#shortest-path-betweenness and https://networkx.github.io/documentation/stable/reference/algorithms/distance_measures.html and https://networkx.github.io/documentation/stable/reference/algorithms/component.html) to explore the topology of network 3.  Show:\n",
    "- Betweenness centrality of all nodes\n",
    "- The number of connected components\n",
    "- The diameter\n",
    "- The graph center"
   ]
  },
  {
   "cell_type": "code",
   "execution_count": null,
   "metadata": {},
   "outputs": [],
   "source": []
  },
  {
   "cell_type": "markdown",
   "metadata": {},
   "source": [
    "## Create a new network with union\n",
    "Create network 6 by taking the union of network 1 and network 5 (https://networkx.github.io/documentation/stable/reference/algorithms/operators.html) .  Draw the new graph.\n",
    "\n",
    "Recent versions of networkx require disjoint node sets when creating a graph union.  Either take the union with a networkx function that renames the nodes so they are disjoint or write a custom union function that merges nodes with the same name."
   ]
  },
  {
   "cell_type": "code",
   "execution_count": null,
   "metadata": {},
   "outputs": [],
   "source": []
  },
  {
   "cell_type": "markdown",
   "metadata": {},
   "source": [
    "## Create a new network with difference\n",
    "Create network 7 by taking the symmetric difference of network 2 and network 3 (https://networkx.github.io/documentation/stable/reference/algorithms/operators.html) .  Draw the new graph.\n",
    "\n",
    "Recent versions of networkx require the node sets of the two graphs to be the same.  Create copies of the graphs, add the nodes from network 2 into the copy of network 3, and vice versa."
   ]
  },
  {
   "cell_type": "code",
   "execution_count": null,
   "metadata": {},
   "outputs": [],
   "source": []
  },
  {
   "cell_type": "markdown",
   "metadata": {},
   "source": [
    "## Create a new network\n",
    "Create network 8 by creating a new empty Graph and adding any nodes and edges you would like (https://networkx.github.io/documentation/stable/reference/classes/graph.html#methods).  Use node names in the range **A** to __Z__.  Draw the new graph."
   ]
  },
  {
   "cell_type": "code",
   "execution_count": null,
   "metadata": {},
   "outputs": [],
   "source": []
  },
  {
   "cell_type": "markdown",
   "metadata": {},
   "source": [
    "## Summarizing graph properties\n",
    "Create a pandas dataframe that summarizes the all of the graphs' properties.  Each column represents a different graph attribute.  Each row corresponds to a graph.  Include the following attributes in the columns:\n",
    "- Graph name or filename\n",
    "- Number of nodes\n",
    "- Number of edges\n",
    "- Graph diameter\n",
    "- Number of connected components\n",
    "- Maximum degree (max over all node degrees)\n",
    "\n",
    "The graph diameter function throws an error if the graph has more than one connected component.  Find a way to avoid or catch this error."
   ]
  },
  {
   "cell_type": "code",
   "execution_count": null,
   "metadata": {},
   "outputs": [],
   "source": [
    "import pandas as pd\n"
   ]
  }
 ],
 "metadata": {
  "kernelspec": {
   "display_name": "Python 3",
   "language": "python",
   "name": "python3"
  },
  "language_info": {
   "codemirror_mode": {
    "name": "ipython",
    "version": 3
   },
   "file_extension": ".py",
   "mimetype": "text/x-python",
   "name": "python",
   "nbconvert_exporter": "python",
   "pygments_lexer": "ipython3",
   "version": "3.7.3"
  }
 },
 "nbformat": 4,
 "nbformat_minor": 1
}
